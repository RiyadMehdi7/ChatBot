{
 "cells": [
  {
   "cell_type": "code",
   "execution_count": 1,
   "metadata": {},
   "outputs": [],
   "source": [
    "data = [\n",
    "    {\"category\": \"Əsas fəaliyyət göstəriciləri (KPİ)\", \"question\": \"Əsas fəaliyyət göstəriciləri (KPİ) nədir?\", \"response\": \"KPİ-lər, əməkdaşların hər birinin vəzifələrinə uyğun olaraq təyin olunan məqsədlərə necə nail olduğunu qiymətləndirməyə kömək edir.\"},\n",
    "    {\"category\": \"Əsas fəaliyyət göstəriciləri (KPİ)\", \"question\": \"Əsas fəaliyyət göstəriciləri (KPİ) nədir?\", \"response\": \"ƏFG-lər, şirkətin əsas məqsədlərinə nail olmaq üçün hər bir əməkdaşın performansını izləmək üçün istifadə olunan rəsmi göstəricilərdir.\"},\n",
    "    {\"category\": \"Əsas fəaliyyət göstəriciləri (KPİ)\", \"question\": \"Əsas fəaliyyət göstəriciləri (KPİ) nədir?\", \"response\": \"KPİ-lər, əməkdaşların hər birinin iş performansını, məqsədlərə nail olmaqda necə yardım etdiklərini və işlərinin effektivliyini qiymətləndirmək üçün istifadə olunan müvafiq parametrlərdir.\"},\n",
    "    {\"category\": \"Əsas fəaliyyət göstəriciləri (KPİ)\", \"question\": \"Əsas fəaliyyət göstəriciləri (KPİ) nədir?\", \"response\": \"ƏFG-lər, əməkdaşların iş performansını, şirkətin əsas hədəflərinə uyğunluğunu və effektivliyini ölçmək üçün təyin olunan əsas göstəricilərdir.\"},\n",
    "    {\"category\": \"Əsas fəaliyyət göstəriciləri (KPİ)\", \"question\": \"Əsas fəaliyyət göstəriciləri (KPİ) nədir?\", \"response\": \"KPİ-lər, əməkdaşların iş performansını izləmək və şirkətin nailiyyətini ölçmək üçün istifadə olunan müəyyən məlumat və rəqəmlərdən ibarətdir.\"},\n",
    "    {\"category\": \"Əsas fəaliyyət göstəriciləri (KPİ)\", \"question\": \"Əsas fəaliyyət göstəriciləri (KPİ) nədir?\", \"response\": \"ƏFG-lər, əməkdaşların işdəki məhsuldarlığını və verimliliyini ölçmək üçün müəyyən edilmiş dəyərlərdən ibarətdir.\"},\n",
    "    {\"category\": \"Əsas fəaliyyət göstəriciləri (KPİ)\", \"question\": \"Əsas fəaliyyət göstəriciləri (KPİ) nədir?\", \"response\": \"KPİ-lər, əməkdaşların iş təcrübəsini, performansını və əməkdaşlığını qiymətləndirmək üçün təyin olunan standart göstəricilərdən ibarətdir.\"},\n",
    "    {\"category\": \"Əsas fəaliyyət göstəriciləri (KPİ)\", \"question\": \"Əsas fəaliyyət göstəriciləri (KPİ) nədir?\", \"response\": \"ƏFG-lər, əməkdaşların şirkətin əsas məqsədlərinə necə nail olduğunu izləmək üçün müəyyən edilmiş göstəricilərdir.\"},\n",
    "    {\"category\": \"Əsas fəaliyyət göstəriciləri (KPİ)\", \"question\": \"Əsas fəaliyyət göstəriciləri (KPİ) nədir?\", \"response\": \"KPİ-lər, əməkdaşların işdəki məhsuldarlığını ölçmək, işlərə necə yanaşdığını izləmək və şirkətin ümumi nailiyyətini qiymətləndirmək üçün istifadə olunan əsas məlumatlardır.\"},\n",
    "    {\"category\": \"Kompetensiya\", \"question\": \"Kompetensiya nədir?\", \"response\": \"Kompetensiyalar hər hansı bir vəzifənin icrası üçün tələb olunan səriştələr toplusudur. Əməkdaşların hər hansı bir vəzifədə fəaliyyət göstərməsi və müvəffəqiyyətli olması üçün ehtiyac duyulan səriştələrdir.\"},\n",
    "    {\"category\": \"Kompetensiya\", \"question\": \"Kompetensiya nədir?\", \"response\": \"Kompetensiyalar, hər hansı bir vəzifənin icrası üçün tələb olunan səriştələr toplusudur və əməkdaşların müvəffəqiyyətli olması üçün vacibdir.\"},\n",
    "    {\"category\": \"Kompetensiya\", \"question\": \"Kompetensiya nədir?\", \"response\": \"Kompetensiyalar, əməkdaşların müvəffəqiyyətli iş icrası üçün tələb olunan səriştələr və bacarıqlər toplusudur.\"},\n",
    "    {\"category\": \"Kompetensiya\", \"question\": \"Kompetensiya nədir?\", \"response\": \"Kompetensiyalar, hər hansı bir vəzifənin icrası üçün tələb olunan səriştələr və bacarıqlər toplusudur.\"},\n",
    "    {\"category\": \"Kompetensiya\", \"question\": \"Kompetensiya nədir?\", \"response\": \"Kompetensiyalar, əməkdaşların müvəffəqiyyətli iş icrası üçün tələb olunan səriştələr və bacarıqlər toplusudur.\"},\n",
    "    {\"category\": \"Kompetensiya\", \"question\": \"Kompetensiya nədir?\", \"response\": \"Kompetensiyalar, əməkdaşların hər hansı bir vəzifədə müvəffəqiyyətli iş icrası üçün tələb olunan səriştələr və bacarıqlər toplusudur.\"},\n",
    "    {\"category\": \"Yekun fəaliyyət balı\", \"question\": \"Yekun fəaliyyət balı nədir?\", \"response\": \"Yekun fəaliyyət balı, əməkdaşın ƏFG və kompetensiyalar üzrə yekun qiymətləndirmə nəticəsində formalaşan göstəricidir.\"},\n",
    "    {\"category\": \"Yekun fəaliyyət balı\", \"question\": \"Yekun fəaliyyət balı nədir?\", \"response\": \"Yekun fəaliyyət balı, əməkdaşın ƏFG və kompetensiyalar üzrə yekun qiymətləndirməsinin nəticəsində formalaşan bir göstəricidir.\"},\n",
    "    {\"category\": \"Birbaşa rəhbər\", \"question\": \"Birbaşa rəhbər kimdir?\", \"response\": \"Birbaşa rəhbər, əməkdaşın bilavasitə tabe olduğu ilkin rəhbərdir.\"},\n",
    "    {\"category\": \"Birbaşa rəhbər\", \"question\": \"Birbaşa rəhbər kimdir?\", \"response\": \"Birbaşa rəhbər, əməkdaşın doğrudan tabe olduğu ilkin rəhbərdir.\"},\n",
    "    {\"category\": \"Birbaşa rəhbər\", \"question\": \"Birbaşa rəhbər kimdir?\", \"response\": \"Birbaşa rəhbər, əməkdaşın ən yaxın rəhbəri, onun doğrudan tabe olduğu ilkin rəhbərdir.\"},\n",
    "    {\"category\": \"Birbaşa rəhbər\", \"question\": \"Birbaşa rəhbər kimdir?\", \"response\": \"Birbaşa rəhbər, əməkdaşın doğrudan tabe olduğu ilkin rəhbərdir və onunla ən yaxın əlaqə saxlayan şəxsdir.\"},\n",
    "    {\"category\": \"Birbaşa rəhbər\", \"question\": \"Birbaşa rəhbər kimdir?\", \"response\": \"Birbaşa rəhbər, əməkdaşın doğrudan tabe olduğu ilkin rəhbərdir və iş əlaqələrində ən yaxın şəxstir.\"},\n",
    "    {\"category\": \"Birbaşa rəhbər\", \"question\": \"Birbaşa rəhbər kimdir?\", \"response\": \"Birbaşa rəhbər, əməkdaşın doğrudan tabe olduğu ilkin rəhbərdir və işlə bağlı ən yaxın dəstək verən şəxstir.\"},\n",
    "    {\"category\": \"Kim tərəfindən təyin olunur\",\"question\": \"Əməkdaşların ƏFG-ləri kim tərəfindən təyin olunur?\",\"response\": \"Direktor/ şöbə rəisi\"  \"İdarə Heyəti (Maliyyə menecmenti departamentinin təklifi ilə)\"\"Direktor müavini\"   \"Struktur bölmə rəhbəri (Əlavə ƏFG təyin olunmadığı təqdirdə direktorun ƏFG-na bərabər götürülür)\"\"Menecer/ baş mütəxəssis/ bölmə rəhbəri/ qrup rəhbəri (aylıq/rüblük mükafat alan əməkdaşlar istisna edilməklə)\"  \"Struktur bölmə rəhbəri\"\"Struktur bölmə rəhbəri\"  \"Şöbədə çalışan digər əməkdaşlar Çalışdığı strukturun ƏFG və hədəflərinə bərabər götürülür\"},\n",
    "    {\"category\": \"Rotasiya halında ƏFG\",\"question\": \"Ənənəvi iş metodu ilə çalışan əməkdaşlar il ərzində rotasiya olunduğu təqdirdə onların yekun ƏFG nəticələri necə hesablanır?\",\"response\": \"Ənənəvi iş metodu ilə çalışan əməkdaşlar, onların bankdakı iş stajına uyğun olaraq il ərzində 50%-dən çox hansı struktur bölmədə çalışıbsa, həmin strukturun yekun əsas fəaliyyət göstəriciləri və fərdi əsas fəaliyyət göstəriciləri (əgər varsa) nəzərə alınır.\"},\n",
    "    {\"category\": \"Rotasiya halında ƏFG\",\"question\": \"Rotasiya olanda ƏFG necə hesablanır?\",\"response\": \"Ənənəvi iş metodu ilə çalışan əməkdaşlar, onların bankdakı iş stajına uyğun olaraq il ərzində 50%-dən çox hansı struktur bölmədə çalışıbsa, həmin strukturun yekun əsas fəaliyyət göstəriciləri və fərdi əsas fəaliyyət göstəriciləri (əgər varsa) nəzərə alınır.\"}\n",
    "\n",
    "]\n"
   ]
  },
  {
   "cell_type": "code",
   "execution_count": 2,
   "metadata": {},
   "outputs": [
    {
     "name": "stdout",
     "output_type": "stream",
     "text": [
      "{'Əsas fəaliyyət göstəriciləri (KPİ)': 'KPİ-lər, əməkdaşların hər birinin vəzifələrinə uyğun olaraq təyin olunan məqsədlərə necə nail olduğunu qiymətləndirməyə kömək edir. ƏFG-lər, şirkətin əsas məqsədlərinə nail olmaq üçün hər bir əməkdaşın performansını izləmək üçün istifadə olunan rəsmi göstəricilərdir. KPİ-lər, əməkdaşların hər birinin iş performansını, məqsədlərə nail olmaqda necə yardım etdiklərini və işlərinin effektivliyini qiymətləndirmək üçün istifadə olunan müvafiq parametrlərdir. ƏFG-lər, əməkdaşların iş performansını, şirkətin əsas hədəflərinə uyğunluğunu və effektivliyini ölçmək üçün təyin olunan əsas göstəricilərdir. KPİ-lər, əməkdaşların iş performansını izləmək və şirkətin nailiyyətini ölçmək üçün istifadə olunan müəyyən məlumat və rəqəmlərdən ibarətdir. ƏFG-lər, əməkdaşların işdəki məhsuldarlığını və verimliliyini ölçmək üçün müəyyən edilmiş dəyərlərdən ibarətdir. KPİ-lər, əməkdaşların iş təcrübəsini, performansını və əməkdaşlığını qiymətləndirmək üçün təyin olunan standart göstəricilərdən ibarətdir. ƏFG-lər, əməkdaşların şirkətin əsas məqsədlərinə necə nail olduğunu izləmək üçün müəyyən edilmiş göstəricilərdir. KPİ-lər, əməkdaşların işdəki məhsuldarlığını ölçmək, işlərə necə yanaşdığını izləmək və şirkətin ümumi nailiyyətini qiymətləndirmək üçün istifadə olunan əsas məlumatlardır.', 'Kompetensiya': 'Kompetensiyalar hər hansı bir vəzifənin icrası üçün tələb olunan səriştələr toplusudur. Əməkdaşların hər hansı bir vəzifədə fəaliyyət göstərməsi və müvəffəqiyyətli olması üçün ehtiyac duyulan səriştələrdir. Kompetensiyalar, hər hansı bir vəzifənin icrası üçün tələb olunan səriştələr toplusudur və əməkdaşların müvəffəqiyyətli olması üçün vacibdir. Kompetensiyalar, əməkdaşların müvəffəqiyyətli iş icrası üçün tələb olunan səriştələr və bacarıqlər toplusudur. Kompetensiyalar, hər hansı bir vəzifənin icrası üçün tələb olunan səriştələr və bacarıqlər toplusudur. Kompetensiyalar, əməkdaşların müvəffəqiyyətli iş icrası üçün tələb olunan səriştələr və bacarıqlər toplusudur. Kompetensiyalar, əməkdaşların hər hansı bir vəzifədə müvəffəqiyyətli iş icrası üçün tələb olunan səriştələr və bacarıqlər toplusudur.', 'Yekun fəaliyyət balı': 'Yekun fəaliyyət balı, əməkdaşın ƏFG və kompetensiyalar üzrə yekun qiymətləndirmə nəticəsində formalaşan göstəricidir. Yekun fəaliyyət balı, əməkdaşın ƏFG və kompetensiyalar üzrə yekun qiymətləndirməsinin nəticəsində formalaşan bir göstəricidir.', 'Birbaşa rəhbər': 'Birbaşa rəhbər, əməkdaşın bilavasitə tabe olduğu ilkin rəhbərdir. Birbaşa rəhbər, əməkdaşın doğrudan tabe olduğu ilkin rəhbərdir. Birbaşa rəhbər, əməkdaşın ən yaxın rəhbəri, onun doğrudan tabe olduğu ilkin rəhbərdir. Birbaşa rəhbər, əməkdaşın doğrudan tabe olduğu ilkin rəhbərdir və onunla ən yaxın əlaqə saxlayan şəxsdir. Birbaşa rəhbər, əməkdaşın doğrudan tabe olduğu ilkin rəhbərdir və iş əlaqələrində ən yaxın şəxstir. Birbaşa rəhbər, əməkdaşın doğrudan tabe olduğu ilkin rəhbərdir və işlə bağlı ən yaxın dəstək verən şəxstir.', 'Kim tərəfindən təyin olunur': 'Direktor/ şöbə rəisiİdarə Heyəti (Maliyyə menecmenti departamentinin təklifi ilə)Direktor müaviniStruktur bölmə rəhbəri (Əlavə ƏFG təyin olunmadığı təqdirdə direktorun ƏFG-na bərabər götürülür)Menecer/ baş mütəxəssis/ bölmə rəhbəri/ qrup rəhbəri (aylıq/rüblük mükafat alan əməkdaşlar istisna edilməklə)Struktur bölmə rəhbəriStruktur bölmə rəhbəriŞöbədə çalışan digər əməkdaşlar Çalışdığı strukturun ƏFG və hədəflərinə bərabər götürülür', 'Rotasiya halında ƏFG': 'Ənənəvi iş metodu ilə çalışan əməkdaşlar, onların bankdakı iş stajına uyğun olaraq il ərzində 50%-dən çox hansı struktur bölmədə çalışıbsa, həmin strukturun yekun əsas fəaliyyət göstəriciləri və fərdi əsas fəaliyyət göstəriciləri (əgər varsa) nəzərə alınır. Ənənəvi iş metodu ilə çalışan əməkdaşlar, onların bankdakı iş stajına uyğun olaraq il ərzində 50%-dən çox hansı struktur bölmədə çalışıbsa, həmin strukturun yekun əsas fəaliyyət göstəriciləri və fərdi əsas fəaliyyət göstəriciləri (əgər varsa) nəzərə alınır.'}\n"
     ]
    }
   ],
   "source": [
    "# Initialize an empty dictionary to store categories and responses\n",
    "category_responses = {}\n",
    "\n",
    "# Iterate through the data\n",
    "for item in data:\n",
    "    category = item[\"category\"]\n",
    "    response = item[\"response\"]\n",
    "    \n",
    "    # If the category already exists in the dictionary, append the response to its list\n",
    "    if category in category_responses:\n",
    "        category_responses[category].append(response)\n",
    "    # If the category is not yet in the dictionary, create a new entry with the response as a list\n",
    "    else:\n",
    "        category_responses[category] = [response]\n",
    "\n",
    "# Convert the list of responses for each category into a single string\n",
    "for category, responses in category_responses.items():\n",
    "    category_responses[category] = \" \".join(responses)\n",
    "\n",
    "# Print the formatted dictionary\n",
    "print(category_responses)\n",
    "\n"
   ]
  },
  {
   "cell_type": "code",
   "execution_count": 3,
   "metadata": {},
   "outputs": [],
   "source": [
    "from sklearn.feature_extraction.text import TfidfVectorizer\n",
    "from sklearn.model_selection import train_test_split\n",
    "\n",
    "# Extract questions and categories from the dataset\n",
    "questions = [entry['question'] for entry in data]\n",
    "categories = [entry['category'] for entry in data]\n",
    "\n",
    "# Split the data into training and testing sets\n",
    "X_train, X_test, y_train, y_test = train_test_split(questions, categories, random_state=42)\n",
    "\n",
    "# Initialize TF-IDF vectorizer\n",
    "tfidf_vectorizer = TfidfVectorizer(stop_words='english')\n",
    "\n",
    "# Fit and transform the training data\n",
    "X_train_tfidf = tfidf_vectorizer.fit_transform(X_train)\n",
    "\n",
    "# Transform the testing data\n",
    "X_test_tfidf = tfidf_vectorizer.transform(X_test)\n"
   ]
  },
  {
   "cell_type": "code",
   "execution_count": 4,
   "metadata": {},
   "outputs": [
    {
     "data": {
      "text/html": [
       "<style>#sk-container-id-1 {color: black;}#sk-container-id-1 pre{padding: 0;}#sk-container-id-1 div.sk-toggleable {background-color: white;}#sk-container-id-1 label.sk-toggleable__label {cursor: pointer;display: block;width: 100%;margin-bottom: 0;padding: 0.3em;box-sizing: border-box;text-align: center;}#sk-container-id-1 label.sk-toggleable__label-arrow:before {content: \"▸\";float: left;margin-right: 0.25em;color: #696969;}#sk-container-id-1 label.sk-toggleable__label-arrow:hover:before {color: black;}#sk-container-id-1 div.sk-estimator:hover label.sk-toggleable__label-arrow:before {color: black;}#sk-container-id-1 div.sk-toggleable__content {max-height: 0;max-width: 0;overflow: hidden;text-align: left;background-color: #f0f8ff;}#sk-container-id-1 div.sk-toggleable__content pre {margin: 0.2em;color: black;border-radius: 0.25em;background-color: #f0f8ff;}#sk-container-id-1 input.sk-toggleable__control:checked~div.sk-toggleable__content {max-height: 200px;max-width: 100%;overflow: auto;}#sk-container-id-1 input.sk-toggleable__control:checked~label.sk-toggleable__label-arrow:before {content: \"▾\";}#sk-container-id-1 div.sk-estimator input.sk-toggleable__control:checked~label.sk-toggleable__label {background-color: #d4ebff;}#sk-container-id-1 div.sk-label input.sk-toggleable__control:checked~label.sk-toggleable__label {background-color: #d4ebff;}#sk-container-id-1 input.sk-hidden--visually {border: 0;clip: rect(1px 1px 1px 1px);clip: rect(1px, 1px, 1px, 1px);height: 1px;margin: -1px;overflow: hidden;padding: 0;position: absolute;width: 1px;}#sk-container-id-1 div.sk-estimator {font-family: monospace;background-color: #f0f8ff;border: 1px dotted black;border-radius: 0.25em;box-sizing: border-box;margin-bottom: 0.5em;}#sk-container-id-1 div.sk-estimator:hover {background-color: #d4ebff;}#sk-container-id-1 div.sk-parallel-item::after {content: \"\";width: 100%;border-bottom: 1px solid gray;flex-grow: 1;}#sk-container-id-1 div.sk-label:hover label.sk-toggleable__label {background-color: #d4ebff;}#sk-container-id-1 div.sk-serial::before {content: \"\";position: absolute;border-left: 1px solid gray;box-sizing: border-box;top: 0;bottom: 0;left: 50%;z-index: 0;}#sk-container-id-1 div.sk-serial {display: flex;flex-direction: column;align-items: center;background-color: white;padding-right: 0.2em;padding-left: 0.2em;position: relative;}#sk-container-id-1 div.sk-item {position: relative;z-index: 1;}#sk-container-id-1 div.sk-parallel {display: flex;align-items: stretch;justify-content: center;background-color: white;position: relative;}#sk-container-id-1 div.sk-item::before, #sk-container-id-1 div.sk-parallel-item::before {content: \"\";position: absolute;border-left: 1px solid gray;box-sizing: border-box;top: 0;bottom: 0;left: 50%;z-index: -1;}#sk-container-id-1 div.sk-parallel-item {display: flex;flex-direction: column;z-index: 1;position: relative;background-color: white;}#sk-container-id-1 div.sk-parallel-item:first-child::after {align-self: flex-end;width: 50%;}#sk-container-id-1 div.sk-parallel-item:last-child::after {align-self: flex-start;width: 50%;}#sk-container-id-1 div.sk-parallel-item:only-child::after {width: 0;}#sk-container-id-1 div.sk-dashed-wrapped {border: 1px dashed gray;margin: 0 0.4em 0.5em 0.4em;box-sizing: border-box;padding-bottom: 0.4em;background-color: white;}#sk-container-id-1 div.sk-label label {font-family: monospace;font-weight: bold;display: inline-block;line-height: 1.2em;}#sk-container-id-1 div.sk-label-container {text-align: center;}#sk-container-id-1 div.sk-container {/* jupyter's `normalize.less` sets `[hidden] { display: none; }` but bootstrap.min.css set `[hidden] { display: none !important; }` so we also need the `!important` here to be able to override the default hidden behavior on the sphinx rendered scikit-learn.org. See: https://github.com/scikit-learn/scikit-learn/issues/21755 */display: inline-block !important;position: relative;}#sk-container-id-1 div.sk-text-repr-fallback {display: none;}</style><div id=\"sk-container-id-1\" class=\"sk-top-container\"><div class=\"sk-text-repr-fallback\"><pre>SVC(kernel=&#x27;linear&#x27;)</pre><b>In a Jupyter environment, please rerun this cell to show the HTML representation or trust the notebook. <br />On GitHub, the HTML representation is unable to render, please try loading this page with nbviewer.org.</b></div><div class=\"sk-container\" hidden><div class=\"sk-item\"><div class=\"sk-estimator sk-toggleable\"><input class=\"sk-toggleable__control sk-hidden--visually\" id=\"sk-estimator-id-1\" type=\"checkbox\" checked><label for=\"sk-estimator-id-1\" class=\"sk-toggleable__label sk-toggleable__label-arrow\">SVC</label><div class=\"sk-toggleable__content\"><pre>SVC(kernel=&#x27;linear&#x27;)</pre></div></div></div></div></div>"
      ],
      "text/plain": [
       "SVC(kernel='linear')"
      ]
     },
     "execution_count": 4,
     "metadata": {},
     "output_type": "execute_result"
    }
   ],
   "source": [
    "from sklearn.svm import SVC\n",
    "\n",
    "# Initialize SVM classifier\n",
    "svm_classifier = SVC(kernel='linear')\n",
    "\n",
    "# Train the classifier\n",
    "svm_classifier.fit(X_train_tfidf, y_train)\n"
   ]
  },
  {
   "cell_type": "code",
   "execution_count": 5,
   "metadata": {},
   "outputs": [
    {
     "name": "stdout",
     "output_type": "stream",
     "text": [
      "Accuracy: 1.0\n",
      "Classification Report:\n",
      "                                     precision    recall  f1-score   support\n",
      "\n",
      "                      Kompetensiya       1.00      1.00      1.00         3\n",
      "              Rotasiya halında ƏFG       1.00      1.00      1.00         1\n",
      "              Yekun fəaliyyət balı       1.00      1.00      1.00         1\n",
      "Əsas fəaliyyət göstəriciləri (KPİ)       1.00      1.00      1.00         2\n",
      "\n",
      "                          accuracy                           1.00         7\n",
      "                         macro avg       1.00      1.00      1.00         7\n",
      "                      weighted avg       1.00      1.00      1.00         7\n",
      "\n"
     ]
    }
   ],
   "source": [
    "from sklearn.metrics import accuracy_score, classification_report\n",
    "\n",
    "# Predict the categories for the testing data\n",
    "y_pred = svm_classifier.predict(X_test_tfidf)\n",
    "\n",
    "# Calculate accuracy\n",
    "accuracy = accuracy_score(y_test, y_pred)\n",
    "print(\"Accuracy:\", accuracy)\n",
    "\n",
    "# Generate classification report\n",
    "report = classification_report(y_test, y_pred)\n",
    "print(\"Classification Report:\\n\", report)\n"
   ]
  },
  {
   "cell_type": "code",
   "execution_count": 6,
   "metadata": {},
   "outputs": [
    {
     "data": {
      "text/plain": [
       "['tfidf_vectorizer.pkl']"
      ]
     },
     "execution_count": 6,
     "metadata": {},
     "output_type": "execute_result"
    }
   ],
   "source": [
    "# save the model\n",
    "\n",
    "import joblib\n",
    "\n",
    "# Save the trained model as a pickle string.\n",
    "\n",
    "filename = 'svm_classifier.pkl'\n",
    "\n",
    "# Save the trained classifier and vectorizer to files\n",
    "joblib.dump(svm_classifier, 'svm_classifier.pkl')\n",
    "joblib.dump(tfidf_vectorizer, 'tfidf_vectorizer.pkl')"
   ]
  },
  {
   "cell_type": "code",
   "execution_count": 7,
   "metadata": {},
   "outputs": [
    {
     "name": "stdout",
     "output_type": "stream",
     "text": [
      "Predicted category: Əsas fəaliyyət göstəriciləri (KPİ)\n"
     ]
    }
   ],
   "source": [
    "# checking if model is working\n",
    "\n",
    "# Load the model from the file\n",
    "\n",
    "loaded_model = joblib.load(filename)\n",
    "\n",
    "# Predict the category for a new question\n",
    "\n",
    "new_question = \"What is the salary range for this position?\"\n",
    "\n",
    "# Transform the new question using the TF-IDF vectorizer\n",
    "\n",
    "new_question_tfidf = tfidf_vectorizer.transform([new_question])\n",
    "\n",
    "# Predict the category\n",
    "\n",
    "predicted_category = loaded_model.predict(new_question_tfidf)\n",
    "\n",
    "print(\"Predicted category:\", predicted_category[0])"
   ]
  },
  {
   "cell_type": "code",
   "execution_count": 11,
   "metadata": {},
   "outputs": [
    {
     "name": "stdout",
     "output_type": "stream",
     "text": [
      "{'response': 'Ənənəvi iş metodu ilə çalışan əməkdaşlar, onların bankdakı iş stajına uyğun olaraq il ərzində 50%-dən çox hansı struktur bölmədə çalışıbsa, həmin strukturun yekun əsas fəaliyyət göstəriciləri və fərdi əsas fəaliyyət göstəriciləri (əgər varsa) nəzərə alınır.'}\n"
     ]
    }
   ],
   "source": [
    "import requests\n",
    "\n",
    "response = requests.post('http://localhost:5000/ask', json={\"question\": \"necə rotasiya\"})\n",
    "print(response.json())"
   ]
  }
 ],
 "metadata": {
  "kernelspec": {
   "display_name": "Python 3",
   "language": "python",
   "name": "python3"
  },
  "language_info": {
   "codemirror_mode": {
    "name": "ipython",
    "version": 3
   },
   "file_extension": ".py",
   "mimetype": "text/x-python",
   "name": "python",
   "nbconvert_exporter": "python",
   "pygments_lexer": "ipython3",
   "version": "3.10.13"
  }
 },
 "nbformat": 4,
 "nbformat_minor": 2
}
