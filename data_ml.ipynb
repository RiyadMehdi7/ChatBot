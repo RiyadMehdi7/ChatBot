{
 "cells": [
  {
   "cell_type": "code",
   "execution_count": 36,
   "metadata": {},
   "outputs": [],
   "source": [
    "data = [\n",
    "    {\"category\": \"Promotion\", \"question\": \"How can I get promoted?\", \"response\": \"Promotions are based on performance and tenure.\"},\n",
    "    {\"category\": \"Promotion\", \"question\": \"What are the criteria for promotion?\", \"response\": \"Promotions are evaluated based on various factors such as performance and skills.\"},\n",
    "    {\"category\": \"Salary\", \"question\": \"How is salary determined?\", \"response\": \"Salary is determined based on factors like job role, experience, and market rates.\"},\n",
    "    {\"category\": \"Salary\", \"question\": \"When can I expect a salary increase?\", \"response\": \"Salary adjustments may occur annually or based on performance.\"},\n",
    "    {\"category\": \"Performance Review\", \"question\": \"When is the next performance review?\", \"response\": \"Performance reviews are typically scheduled annually.\"},\n",
    "    {\"category\": \"Performance Review\", \"question\": \"How can I prepare for my performance review?\", \"response\": \"You can prepare by documenting your achievements and setting goals for the upcoming year.\"},\n",
    "    {\"category\": \"Promotion\", \"question\": \"Is there an opportunity for advancement?\", \"response\": \"Advancement opportunities may be available based on your performance and skills.\"},\n",
    "    {\"category\": \"Salary\", \"question\": \"Can I negotiate my salary?\", \"response\": \"Negotiating salary may be possible, depending on various factors such as market rates and your qualifications.\"},\n",
    "    {\"category\": \"Performance Review\", \"question\": \"What should I do if I disagree with my performance review?\", \"response\": \"You can discuss any concerns with your manager and provide additional context for consideration.\"},\n",
    "    {\"category\": \"Promotion\", \"question\": \"How long does it usually take to get promoted?\", \"response\": \"The time to promotion can vary depending on individual performance and organizational factors.\"},\n",
    "    {\"category\": \"Salary\", \"question\": \"What benefits are included in the compensation package?\", \"response\": \"Benefits may include health insurance, retirement plans, and other perks depending on your employment contract.\"},\n",
    "    {\"category\": \"Performance Review\", \"question\": \"How are performance goals set?\", \"response\": \"Performance goals are typically set in collaboration with your manager and aligned with organizational objectives.\"},\n",
    "    {\"category\": \"Promotion\", \"question\": \"What skills are important for promotion?\", \"response\": \"Skills such as leadership, problem-solving, and collaboration are often valued for promotion.\"},\n",
    "    {\"category\": \"Salary\", \"question\": \"What is the average salary for this position?\", \"response\": \"The average salary can vary depending on factors such as location, industry, and experience level.\"},\n",
    "    {\"category\": \"Performance Review\", \"question\": \"What happens during a performance review?\", \"response\": \"During a performance review, your manager will assess your performance, provide feedback, and discuss goals for the future.\"},\n",
    "    {\"category\": \"Promotion\", \"question\": \"How does the company promote diversity and inclusion?\", \"response\": \"The company may have initiatives in place to promote diversity and inclusion, such as training programs and diversity hiring initiatives.\"},\n",
    "    {\"category\": \"Salary\", \"question\": \"What is the salary range for this position?\", \"response\": \"The salary range can vary depending on factors such as location, industry, and company size.\"},\n",
    "    {\"category\": \"Performance Review\", \"question\": \"What should I do if I receive negative feedback during a performance review?\", \"response\": \"Use negative feedback as an opportunity for growth and development. Discuss areas for improvement with your manager and create a plan to address them.\"},\n",
    "    {\"category\": \"Promotion\", \"question\": \"How does the company identify candidates for promotion?\", \"response\": \"Candidates for promotion may be identified based on their performance, potential, and alignment with organizational goals.\"},\n",
    "    {\"category\": \"Salary\", \"question\": \"Are there opportunities for bonuses or incentives?\", \"response\": \"Bonuses or incentives may be available based on individual and company performance.\"},\n",
    "    {\"category\": \"Performance Review\", \"question\": \"How are performance metrics evaluated?\", \"response\": \"Performance metrics are typically evaluated based on predefined criteria such as productivity, quality, and teamwork.\"},\n",
    "    {\"category\": \"Promotion\", \"question\": \"How does the promotion process work?\", \"response\": \"The promotion process may involve performance evaluations, interviews, and approvals from management.\"},\n",
    "    {\"category\": \"Salary\", \"question\": \"Can I request a salary review?\", \"response\": \"You can discuss salary concerns with your manager and request a salary review if necessary.\"},\n",
    "    {\"category\": \"Performance Review\", \"question\": \"What should I do if I feel my performance review was unfair?\", \"response\": \"If you feel your performance review was unfair, you can discuss your concerns with HR or escalate the issue through appropriate channels.\"},\n",
    "    {\"category\": \"Promotion\", \"question\": \"How can I demonstrate my readiness for promotion?\", \"response\": \"You can demonstrate readiness for promotion by consistently exceeding expectations, taking on additional responsibilities, and seeking opportunities for growth.\"},\n",
    "    {\"category\": \"Salary\", \"question\": \"What factors determine salary increases?\", \"response\": \"Salary increases may be determined by factors such as performance, market trends, and company profitability.\"},\n",
    "    {\"category\": \"Performance Review\", \"question\": \"How can I improve my performance before the next review?\", \"response\": \"You can improve your performance by setting clear goals, seeking feedback, and investing in professional development.\"},\n",
    "    {\"category\": \"Promotion\", \"question\": \"Are there opportunities for lateral movement within the company?\", \"response\": \"Lateral movement opportunities may be available depending on business needs and your qualifications.\"},\n",
    "    {\"category\": \"Salary\", \"question\": \"How does the company handle cost-of-living adjustments?\", \"response\": \"Cost-of-living adjustments may be made periodically to ensure employees' salaries remain competitive with the market.\"},\n",
    "    {\"category\": \"Performance Review\", \"question\": \"What should I do if I'm not satisfied with my performance review?\", \"response\": \"If you're not satisfied with your performance review, you can discuss your concerns with your manager and work together to address any issues.\"},\n",
    "    {\"category\": \"Promotion\", \"question\": \"What are the benefits of being promoted?\", \"response\": \"Benefits of promotion may include increased responsibility, higher pay, and opportunities for career advancement.\"},\n",
    "    {\"category\": \"Salary\", \"question\": \"How often are salary reviews conducted?\", \"response\": \"Salary reviews may be conducted annually or more frequently depending on company policy and performance.\"},\n",
    "    {\"category\": \"Performance Review\", \"question\": \"What should I do if I disagree with my performance rating?\", \"response\": \"If you disagree with your performance rating, you can discuss your concerns with your manager and provide additional evidence to support your case.\"},\n",
    "    {\"category\": \"Promotion\", \"question\": \"How does the company support employee development?\", \"response\": \"The company may support employee development through training programs, mentorship, and opportunities for growth.\"},\n",
    "    {\"category\": \"Salary\", \"question\": \"Can I negotiate my benefits package?\", \"response\": \"You may be able to negotiate certain aspects of your benefits package, such as health insurance coverage or retirement contributions.\"},\n",
    "    {\"category\": \"Performance Review\", \"question\": \"How are performance goals set for teams?\", \"response\": \"Performance goals for teams are typically aligned with departmental or organizational objectives and may be set collaboratively.\"},\n",
    "    {\"category\": \"Promotion\", \"question\": \"What is the promotion timeline for employees?\", \"response\": \"The promotion timeline can vary depending on individual performance, organizational needs, and available opportunities.\"},\n",
    "    {\"category\": \"Salary\", \"question\": \"What is the company's policy on salary transparency?\", \"response\": \"The company's policy on salary transparency may vary, but some companies choose to be transparent about salary ranges and compensation practices.\"},\n",
    "    {\"category\": \"Performance Review\", \"question\": \"What happens if I miss my performance review?\", \"response\": \"If you miss your performance review, you should reschedule as soon as possible to ensure you receive feedback and set goals for the future.\"},\n",
    "    {\"category\": \"Promotion\", \"question\": \"How does the company recognize and reward high performers?\", \"response\": \"High performers may be recognized and rewarded through promotions, bonuses, or other incentives.\"},\n",
    "    {\"category\": \"Salary\", \"question\": \"What is the typical salary progression for this role?\", \"response\": \"Salary progression for this role may vary depending on factors such as experience, performance, and company policies.\"},\n",
    "    {\"category\": \"Performance Review\", \"question\": \"What should I do if I receive a poor performance review?\", \"response\": \"If you receive a poor performance review, use it as an opportunity for growth and improvement. Discuss areas for development with your manager and create an action plan.\"},\n",
    "    {\"category\": \"Promotion\", \"question\": \"How does the company ensure promotions are fair and equitable?\", \"response\": \"The company may have processes in place to ensure promotions are based on merit, performance, and alignment with company values.\"},\n",
    "    {\"category\": \"Salary\", \"question\": \"What is the process for requesting a salary adjustment?\", \"response\": \"You can discuss salary adjustments with your manager and provide evidence to support your request, such as market research or examples of your contributions to the company.\"},\n",
    "    {\"category\": \"Performance Review\", \"question\": \"How does the company handle disputes related to performance reviews?\", \"response\": \"Disputes related to performance reviews may be addressed through HR or an internal grievance process, depending on company policy.\"},\n",
    "    {\"category\": \"Promotion\", \"question\": \"How does the company measure performance for promotion purposes?\", \"response\": \"Performance for promotion purposes may be measured based on factors such as productivity, leadership skills, and alignment with company values.\"},\n",
    "    {\"category\": \"Salary\", \"question\": \"Can I request a performance-based bonus?\", \"response\": \"You can discuss the possibility of a performance-based bonus with your manager, especially if you have exceeded expectations or achieved significant milestones.\"},\n",
    "    {\"category\": \"Performance Review\", \"question\": \"How does the company handle performance reviews for remote employees?\", \"response\": \"Performance reviews for remote employees may be conducted using virtual meetings, performance tracking software, and regular communication with managers.\"},\n",
    "    {\"category\": \"Promotion\", \"question\": \"What opportunities are available for career advancement?\", \"response\": \"Opportunities for career advancement may include promotions, lateral moves, and specialized training programs.\"},\n",
    "    {\"category\": \"Salary\", \"question\": \"How does the company determine annual salary increases?\", \"response\": \"Annual salary increases may be determined based on factors such as company performance, market trends, and individual performance.\"},\n",
    "    {\"category\": \"Performance Review\", \"question\": \"What should I do if I'm not happy with my performance review?\", \"response\": \"If you're not happy with your performance review, you can discuss your concerns with your manager and work together to address any issues or misunderstandings.\"},\n",
    "    {\"category\": \"Promotion\", \"question\": \"How does the company support employees' career development?\", \"response\": \"The company may support employees' career development through training programs, mentorship, tuition reimbursement, and opportunities for advancement.\"},\n",
    "    {\"category\": \"Salary\", \"question\": \"What benefits are offered in addition to salary?\", \"response\": \"In addition to salary, benefits may include health insurance, retirement plans, paid time off, and other perks.\"},\n",
    "    {\"category\": \"Performance Review\", \"question\": \"What happens if I don't meet my performance goals?\", \"response\": \"If you don't meet your performance goals, discuss the reasons with your manager and create a plan to improve performance in the future.\"},\n",
    "    {\"category\": \"Promotion\", \"question\": \"How can I position myself for promotion?\", \"response\": \"To position yourself for promotion, focus on developing relevant skills, taking on additional responsibilities, and building strong relationships with colleagues and supervisors.\"},\n",
    "    {\"category\": \"Salary\", \"question\": \"What is the typical salary progression for employees in this department?\", \"response\": \"Salary progression for employees in this department may vary based on factors such as job level, experience, and company performance.\"},\n",
    "    {\"category\": \"Performance Review\", \"question\": \"How does the company recognize and reward high performance?\", \"response\": \"High performance may be recognized and rewarded through promotions, bonuses, awards, or other forms of recognition.\"},\n",
    "]\n"
   ]
  },
  {
   "cell_type": "code",
   "execution_count": null,
   "metadata": {},
   "outputs": [],
   "source": [
    "# Initialize an empty dictionary to store categories and responses\n",
    "category_responses = {}\n",
    "\n",
    "# Iterate through the data\n",
    "for item in data:\n",
    "    category = item[\"category\"]\n",
    "    response = item[\"response\"]\n",
    "    \n",
    "    # If the category already exists in the dictionary, append the response to its list\n",
    "    if category in category_responses:\n",
    "        category_responses[category].append(response)\n",
    "    # If the category is not yet in the dictionary, create a new entry with the response as a list\n",
    "    else:\n",
    "        category_responses[category] = [response]\n",
    "\n",
    "# Convert the list of responses for each category into a single string\n",
    "for category, responses in category_responses.items():\n",
    "    category_responses[category] = \" \".join(responses)\n",
    "\n",
    "# Print the formatted dictionary\n",
    "print(category_responses)\n"
   ]
  },
  {
   "cell_type": "code",
   "execution_count": 37,
   "metadata": {},
   "outputs": [],
   "source": [
    "from sklearn.feature_extraction.text import TfidfVectorizer\n",
    "from sklearn.model_selection import train_test_split\n",
    "\n",
    "# Extract questions and categories from the dataset\n",
    "questions = [entry['question'] for entry in data]\n",
    "categories = [entry['category'] for entry in data]\n",
    "\n",
    "# Split the data into training and testing sets\n",
    "X_train, X_test, y_train, y_test = train_test_split(questions, categories, test_size=0.2, random_state=42)\n",
    "\n",
    "# Initialize TF-IDF vectorizer\n",
    "tfidf_vectorizer = TfidfVectorizer(stop_words='english')\n",
    "\n",
    "# Fit and transform the training data\n",
    "X_train_tfidf = tfidf_vectorizer.fit_transform(X_train)\n",
    "\n",
    "# Transform the testing data\n",
    "X_test_tfidf = tfidf_vectorizer.transform(X_test)\n"
   ]
  },
  {
   "cell_type": "code",
   "execution_count": 38,
   "metadata": {},
   "outputs": [
    {
     "data": {
      "text/html": [
       "<style>#sk-container-id-5 {color: black;}#sk-container-id-5 pre{padding: 0;}#sk-container-id-5 div.sk-toggleable {background-color: white;}#sk-container-id-5 label.sk-toggleable__label {cursor: pointer;display: block;width: 100%;margin-bottom: 0;padding: 0.3em;box-sizing: border-box;text-align: center;}#sk-container-id-5 label.sk-toggleable__label-arrow:before {content: \"▸\";float: left;margin-right: 0.25em;color: #696969;}#sk-container-id-5 label.sk-toggleable__label-arrow:hover:before {color: black;}#sk-container-id-5 div.sk-estimator:hover label.sk-toggleable__label-arrow:before {color: black;}#sk-container-id-5 div.sk-toggleable__content {max-height: 0;max-width: 0;overflow: hidden;text-align: left;background-color: #f0f8ff;}#sk-container-id-5 div.sk-toggleable__content pre {margin: 0.2em;color: black;border-radius: 0.25em;background-color: #f0f8ff;}#sk-container-id-5 input.sk-toggleable__control:checked~div.sk-toggleable__content {max-height: 200px;max-width: 100%;overflow: auto;}#sk-container-id-5 input.sk-toggleable__control:checked~label.sk-toggleable__label-arrow:before {content: \"▾\";}#sk-container-id-5 div.sk-estimator input.sk-toggleable__control:checked~label.sk-toggleable__label {background-color: #d4ebff;}#sk-container-id-5 div.sk-label input.sk-toggleable__control:checked~label.sk-toggleable__label {background-color: #d4ebff;}#sk-container-id-5 input.sk-hidden--visually {border: 0;clip: rect(1px 1px 1px 1px);clip: rect(1px, 1px, 1px, 1px);height: 1px;margin: -1px;overflow: hidden;padding: 0;position: absolute;width: 1px;}#sk-container-id-5 div.sk-estimator {font-family: monospace;background-color: #f0f8ff;border: 1px dotted black;border-radius: 0.25em;box-sizing: border-box;margin-bottom: 0.5em;}#sk-container-id-5 div.sk-estimator:hover {background-color: #d4ebff;}#sk-container-id-5 div.sk-parallel-item::after {content: \"\";width: 100%;border-bottom: 1px solid gray;flex-grow: 1;}#sk-container-id-5 div.sk-label:hover label.sk-toggleable__label {background-color: #d4ebff;}#sk-container-id-5 div.sk-serial::before {content: \"\";position: absolute;border-left: 1px solid gray;box-sizing: border-box;top: 0;bottom: 0;left: 50%;z-index: 0;}#sk-container-id-5 div.sk-serial {display: flex;flex-direction: column;align-items: center;background-color: white;padding-right: 0.2em;padding-left: 0.2em;position: relative;}#sk-container-id-5 div.sk-item {position: relative;z-index: 1;}#sk-container-id-5 div.sk-parallel {display: flex;align-items: stretch;justify-content: center;background-color: white;position: relative;}#sk-container-id-5 div.sk-item::before, #sk-container-id-5 div.sk-parallel-item::before {content: \"\";position: absolute;border-left: 1px solid gray;box-sizing: border-box;top: 0;bottom: 0;left: 50%;z-index: -1;}#sk-container-id-5 div.sk-parallel-item {display: flex;flex-direction: column;z-index: 1;position: relative;background-color: white;}#sk-container-id-5 div.sk-parallel-item:first-child::after {align-self: flex-end;width: 50%;}#sk-container-id-5 div.sk-parallel-item:last-child::after {align-self: flex-start;width: 50%;}#sk-container-id-5 div.sk-parallel-item:only-child::after {width: 0;}#sk-container-id-5 div.sk-dashed-wrapped {border: 1px dashed gray;margin: 0 0.4em 0.5em 0.4em;box-sizing: border-box;padding-bottom: 0.4em;background-color: white;}#sk-container-id-5 div.sk-label label {font-family: monospace;font-weight: bold;display: inline-block;line-height: 1.2em;}#sk-container-id-5 div.sk-label-container {text-align: center;}#sk-container-id-5 div.sk-container {/* jupyter's `normalize.less` sets `[hidden] { display: none; }` but bootstrap.min.css set `[hidden] { display: none !important; }` so we also need the `!important` here to be able to override the default hidden behavior on the sphinx rendered scikit-learn.org. See: https://github.com/scikit-learn/scikit-learn/issues/21755 */display: inline-block !important;position: relative;}#sk-container-id-5 div.sk-text-repr-fallback {display: none;}</style><div id=\"sk-container-id-5\" class=\"sk-top-container\"><div class=\"sk-text-repr-fallback\"><pre>SVC(kernel=&#x27;linear&#x27;)</pre><b>In a Jupyter environment, please rerun this cell to show the HTML representation or trust the notebook. <br />On GitHub, the HTML representation is unable to render, please try loading this page with nbviewer.org.</b></div><div class=\"sk-container\" hidden><div class=\"sk-item\"><div class=\"sk-estimator sk-toggleable\"><input class=\"sk-toggleable__control sk-hidden--visually\" id=\"sk-estimator-id-5\" type=\"checkbox\" checked><label for=\"sk-estimator-id-5\" class=\"sk-toggleable__label sk-toggleable__label-arrow\">SVC</label><div class=\"sk-toggleable__content\"><pre>SVC(kernel=&#x27;linear&#x27;)</pre></div></div></div></div></div>"
      ],
      "text/plain": [
       "SVC(kernel='linear')"
      ]
     },
     "execution_count": 38,
     "metadata": {},
     "output_type": "execute_result"
    }
   ],
   "source": [
    "from sklearn.svm import SVC\n",
    "\n",
    "# Initialize SVM classifier\n",
    "svm_classifier = SVC(kernel='linear')\n",
    "\n",
    "# Train the classifier\n",
    "svm_classifier.fit(X_train_tfidf, y_train)\n"
   ]
  },
  {
   "cell_type": "code",
   "execution_count": 39,
   "metadata": {},
   "outputs": [
    {
     "name": "stdout",
     "output_type": "stream",
     "text": [
      "Accuracy: 0.9166666666666666\n",
      "Classification Report:\n",
      "                     precision    recall  f1-score   support\n",
      "\n",
      "Performance Review       1.00      1.00      1.00         2\n",
      "         Promotion       1.00      0.80      0.89         5\n",
      "            Salary       0.83      1.00      0.91         5\n",
      "\n",
      "          accuracy                           0.92        12\n",
      "         macro avg       0.94      0.93      0.93        12\n",
      "      weighted avg       0.93      0.92      0.92        12\n",
      "\n"
     ]
    }
   ],
   "source": [
    "from sklearn.metrics import accuracy_score, classification_report\n",
    "\n",
    "# Predict the categories for the testing data\n",
    "y_pred = svm_classifier.predict(X_test_tfidf)\n",
    "\n",
    "# Calculate accuracy\n",
    "accuracy = accuracy_score(y_test, y_pred)\n",
    "print(\"Accuracy:\", accuracy)\n",
    "\n",
    "# Generate classification report\n",
    "report = classification_report(y_test, y_pred)\n",
    "print(\"Classification Report:\\n\", report)\n"
   ]
  },
  {
   "cell_type": "code",
   "execution_count": 40,
   "metadata": {},
   "outputs": [
    {
     "data": {
      "text/plain": [
       "['tfidf_vectorizer.pkl']"
      ]
     },
     "execution_count": 40,
     "metadata": {},
     "output_type": "execute_result"
    }
   ],
   "source": [
    "# save the model\n",
    "\n",
    "import joblib\n",
    "\n",
    "# Save the trained model as a pickle string.\n",
    "\n",
    "filename = 'svm_classifier.pkl'\n",
    "\n",
    "# Save the trained classifier and vectorizer to files\n",
    "joblib.dump(svm_classifier, 'svm_classifier.pkl')\n",
    "joblib.dump(tfidf_vectorizer, 'tfidf_vectorizer.pkl')"
   ]
  },
  {
   "cell_type": "code",
   "execution_count": 41,
   "metadata": {},
   "outputs": [
    {
     "name": "stdout",
     "output_type": "stream",
     "text": [
      "Predicted category: Salary\n"
     ]
    }
   ],
   "source": [
    "# checking if model is working\n",
    "\n",
    "# Load the model from the file\n",
    "\n",
    "loaded_model = joblib.load(filename)\n",
    "\n",
    "# Predict the category for a new question\n",
    "\n",
    "new_question = \"What is the salary range for this position?\"\n",
    "\n",
    "# Transform the new question using the TF-IDF vectorizer\n",
    "\n",
    "new_question_tfidf = tfidf_vectorizer.transform([new_question])\n",
    "\n",
    "# Predict the category\n",
    "\n",
    "predicted_category = loaded_model.predict(new_question_tfidf)\n",
    "\n",
    "print(\"Predicted category:\", predicted_category[0])"
   ]
  },
  {
   "cell_type": "code",
   "execution_count": 42,
   "metadata": {},
   "outputs": [
    {
     "name": "stdout",
     "output_type": "stream",
     "text": [
      "{'response': ['Salary is determined based on factors like job role, experience, and market rates.', 'Salary adjustments may occur annually or based on performance.', 'Negotiating salary may be possible, depending on various factors such as market rates and your qualifications.', 'Benefits may include health insurance, retirement plans, and other perks depending on your employment contract.', 'The average salary can vary depending on factors such as location, industry, and experience level.', 'The salary range can vary depending on factors such as location, industry, and company size.', 'Bonuses or incentives may be available based on individual and company performance.', 'You can discuss salary concerns with your manager and request a salary review if necessary.', 'Salary increases may be determined by factors such as performance, market trends, and company profitability.', \"Cost-of-living adjustments may be made periodically to ensure employees' salaries remain competitive with the market.\", 'Salary reviews may be conducted annually or more frequently depending on company policy and performance.', 'You may be able to negotiate certain aspects of your benefits package, such as health insurance coverage or retirement contributions.', \"The company's policy on salary transparency may vary, but some companies choose to be transparent about salary ranges and compensation practices.\", 'Salary progression for this role may vary depending on factors such as experience, performance, and company policies.', 'You can discuss salary adjustments with your manager and provide evidence to support your request, such as market research or examples of your contributions to the company.', 'You can discuss the possibility of a performance-based bonus with your manager, especially if you have exceeded expectations or achieved significant milestones.', 'Annual salary increases may be determined based on factors such as company performance, market trends, and individual performance.', 'In addition to salary, benefits may include health insurance, retirement plans, paid time off, and other perks.', 'Salary progression for employees in this department may vary based on factors such as job level, experience, and company performance.']}\n"
     ]
    }
   ],
   "source": [
    "import requests\n",
    "\n",
    "response = requests.post('http://localhost:5000/ask', json={\"question\": \"What is my salary?\"})\n",
    "print(response.json())"
   ]
  }
 ],
 "metadata": {
  "kernelspec": {
   "display_name": "Python 3",
   "language": "python",
   "name": "python3"
  },
  "language_info": {
   "codemirror_mode": {
    "name": "ipython",
    "version": 3
   },
   "file_extension": ".py",
   "mimetype": "text/x-python",
   "name": "python",
   "nbconvert_exporter": "python",
   "pygments_lexer": "ipython3",
   "version": "3.10.13"
  }
 },
 "nbformat": 4,
 "nbformat_minor": 2
}
